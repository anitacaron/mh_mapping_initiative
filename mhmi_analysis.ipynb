{
 "cells": [
  {
   "cell_type": "markdown",
   "metadata": {},
   "source": [
    "# Mapping analysis for datasets in the Mouse-Human mapping effort\n",
    "\n",
    "More information can be found here: https://github.com/obophenotype/mp_hp_mapping"
   ]
  },
  {
   "cell_type": "code",
   "execution_count": 69,
   "metadata": {},
   "outputs": [
    {
     "name": "stdout",
     "output_type": "stream",
     "text": [
      "Last run: 2020-12-10 16:21:04.986420\n"
     ]
    }
   ],
   "source": [
    "import datetime\n",
    "import pandas as pd\n",
    "import numpy as np\n",
    "import pathlib\n",
    "\n",
    "print(f\"Last run: {datetime.datetime.now()}\")"
   ]
  },
  {
   "cell_type": "code",
   "execution_count": 46,
   "metadata": {},
   "outputs": [],
   "source": [
    "human_phenotype = \"human_phenotype\"\n",
    "mammalian_phenotype = \"mammalian_phenotype\"\n",
    "obo_iri_prefix = \"http://purl.obolibrary.org/obo/\"\n",
    "mp_iri_prefix = \"http://purl.obolibrary.org/obo/MP_\"\n",
    "hp_iri_prefix = \"http://purl.obolibrary.org/obo/HP_\""
   ]
  },
  {
   "cell_type": "code",
   "execution_count": 40,
   "metadata": {},
   "outputs": [],
   "source": [
    "use_case_dir = \"use_cases\"\n",
    "sources_dir = \"sources\"\n",
    "\n",
    "use_cases = {\n",
    "    \"kids_first\": pathlib.Path.cwd().joinpath(use_case_dir, \"April2020_KF_Data_Phenotypes_HPO.csv\")\n",
    "}\n",
    "raw_mapping_data = {\n",
    "    \"upheno_logical\": pathlib.Path.cwd().joinpath(sources_dir,\"upheno\", \"upheno_mapping_logical.csv\"),\n",
    "    \"upheno_lexical\": pathlib.Path.cwd().joinpath(sources_dir,\"upheno\", \"upheno_mapping_lexical.csv\")\n",
    "}\n",
    "                                 "
   ]
  },
  {
   "cell_type": "markdown",
   "metadata": {},
   "source": [
    "# Load data\n",
    "## Load use case data\n",
    "### Load Kids First data"
   ]
  },
  {
   "cell_type": "code",
   "execution_count": 41,
   "metadata": {},
   "outputs": [
    {
     "data": {
      "text/plain": [
       "0      HP:0030319\n",
       "1      HP:0040106\n",
       "2      HP:0040064\n",
       "3      HP:0001252\n",
       "4      HP:0001999\n",
       "          ...    \n",
       "782    HP:0000807\n",
       "783    HP:0011805\n",
       "784    HP:0010741\n",
       "785    HP:0002992\n",
       "786    HP:0009736\n",
       "Name: human_phenotype, Length: 787, dtype: object"
      ]
     },
     "execution_count": 41,
     "metadata": {},
     "output_type": "execute_result"
    }
   ],
   "source": [
    "df_kids_first = pd.read_csv(use_cases['kids_first'])\n",
    "df_kids_first[human_phenotype]=df_kids_first['hpo_id_phenotype']\n",
    "df_kids_first = df_kids_first[human_phenotype]\n",
    "df_kids_first"
   ]
  },
  {
   "cell_type": "markdown",
   "metadata": {},
   "source": [
    "## Load mapping data\n",
    "### Load upheno mappings"
   ]
  },
  {
   "cell_type": "code",
   "execution_count": 77,
   "metadata": {},
   "outputs": [
    {
     "name": "stdout",
     "output_type": "stream",
     "text": [
      "929\n",
      "1711\n",
      "   human_phenotype mammalian_phenotype\n",
      "2       HP:0012091          MP:0002693\n",
      "11      HP:0002208          MP:0002832\n",
      "21      HP:0003537          MP:0008822\n",
      "23      HP:0002558          MP:0009723\n",
      "29      HP:3000052          MP:0003056\n",
      "  human_phenotype mammalian_phenotype\n",
      "0      HP:0000347          MP:0002639\n",
      "2      HP:0000347          MP:0004592\n",
      "5      HP:0000327          MP:0004540\n",
      "6      HP:0005736          MP:0002764\n",
      "9      HP:0003270          MP:0009247\n"
     ]
    }
   ],
   "source": [
    "def extract_upheno_mappings(df_upheno):\n",
    "    df_upheno = df_upheno[[\"p1\", \"p2\"]]\n",
    "    df_upheno = df_upheno[(df_upheno.p1.str.startswith(hp_iri_prefix)) & (df_upheno.p2.str.startswith(mp_iri_prefix))]\n",
    "    df_upheno[\"p1\"] = df_upheno.p1.str.replace(obo_iri_prefix,\"\")\n",
    "    df_upheno[\"p1\"] = df_upheno.p1.str.replace(\"_\",\":\")\n",
    "    df_upheno[\"p2\"] = df_upheno.p2.str.replace(\"_\",\":\")\n",
    "    df_upheno[\"p2\"] = df_upheno.p2.str.replace(obo_iri_prefix,\"\")\n",
    "    df_upheno.columns = [human_phenotype,mammalian_phenotype]\n",
    "    return df_upheno\n",
    "\n",
    "dfm_upheno_logical = extract_upheno_mappings(pd.read_csv(raw_mapping_data['upheno_logical']))\n",
    "dfm_upheno_lexical = extract_upheno_mappings(pd.read_csv(raw_mapping_data['upheno_lexical']))\n",
    "print(len(dfm_upheno_logical))\n",
    "print(len(dfm_upheno_lexical))\n",
    "print(dfm_upheno_logical.head())\n",
    "print(dfm_upheno_lexical.head())"
   ]
  },
  {
   "cell_type": "markdown",
   "metadata": {},
   "source": [
    "# Map data\n",
    "## Kids First"
   ]
  },
  {
   "cell_type": "code",
   "execution_count": 78,
   "metadata": {},
   "outputs": [
    {
     "data": {
      "text/html": [
       "<div>\n",
       "<style scoped>\n",
       "    .dataframe tbody tr th:only-of-type {\n",
       "        vertical-align: middle;\n",
       "    }\n",
       "\n",
       "    .dataframe tbody tr th {\n",
       "        vertical-align: top;\n",
       "    }\n",
       "\n",
       "    .dataframe thead th {\n",
       "        text-align: right;\n",
       "    }\n",
       "</style>\n",
       "<table border=\"1\" class=\"dataframe\">\n",
       "  <thead>\n",
       "    <tr style=\"text-align: right;\">\n",
       "      <th></th>\n",
       "      <th>human_phenotype</th>\n",
       "      <th>mammalian_phenotype</th>\n",
       "      <th>upheno_logical</th>\n",
       "      <th>upheno_lexical</th>\n",
       "    </tr>\n",
       "  </thead>\n",
       "  <tbody>\n",
       "    <tr>\n",
       "      <th>0</th>\n",
       "      <td>HP:0030319</td>\n",
       "      <td>NaN</td>\n",
       "      <td>False</td>\n",
       "      <td>False</td>\n",
       "    </tr>\n",
       "    <tr>\n",
       "      <th>1</th>\n",
       "      <td>HP:0040106</td>\n",
       "      <td>NaN</td>\n",
       "      <td>False</td>\n",
       "      <td>False</td>\n",
       "    </tr>\n",
       "    <tr>\n",
       "      <th>2</th>\n",
       "      <td>HP:0040064</td>\n",
       "      <td>NaN</td>\n",
       "      <td>False</td>\n",
       "      <td>False</td>\n",
       "    </tr>\n",
       "    <tr>\n",
       "      <th>3</th>\n",
       "      <td>HP:0001252</td>\n",
       "      <td>NaN</td>\n",
       "      <td>False</td>\n",
       "      <td>False</td>\n",
       "    </tr>\n",
       "    <tr>\n",
       "      <th>4</th>\n",
       "      <td>HP:0001999</td>\n",
       "      <td>MP:0003743</td>\n",
       "      <td>True</td>\n",
       "      <td>True</td>\n",
       "    </tr>\n",
       "    <tr>\n",
       "      <th>...</th>\n",
       "      <td>...</td>\n",
       "      <td>...</td>\n",
       "      <td>...</td>\n",
       "      <td>...</td>\n",
       "    </tr>\n",
       "    <tr>\n",
       "      <th>782</th>\n",
       "      <td>HP:0000807</td>\n",
       "      <td>NaN</td>\n",
       "      <td>False</td>\n",
       "      <td>False</td>\n",
       "    </tr>\n",
       "    <tr>\n",
       "      <th>783</th>\n",
       "      <td>HP:0011805</td>\n",
       "      <td>NaN</td>\n",
       "      <td>False</td>\n",
       "      <td>False</td>\n",
       "    </tr>\n",
       "    <tr>\n",
       "      <th>784</th>\n",
       "      <td>HP:0010741</td>\n",
       "      <td>NaN</td>\n",
       "      <td>False</td>\n",
       "      <td>False</td>\n",
       "    </tr>\n",
       "    <tr>\n",
       "      <th>785</th>\n",
       "      <td>HP:0002992</td>\n",
       "      <td>MP:0000558</td>\n",
       "      <td>True</td>\n",
       "      <td>True</td>\n",
       "    </tr>\n",
       "    <tr>\n",
       "      <th>786</th>\n",
       "      <td>HP:0009736</td>\n",
       "      <td>NaN</td>\n",
       "      <td>False</td>\n",
       "      <td>False</td>\n",
       "    </tr>\n",
       "  </tbody>\n",
       "</table>\n",
       "<p>787 rows × 4 columns</p>\n",
       "</div>"
      ],
      "text/plain": [
       "    human_phenotype mammalian_phenotype  upheno_logical  upheno_lexical\n",
       "0        HP:0030319                 NaN           False           False\n",
       "1        HP:0040106                 NaN           False           False\n",
       "2        HP:0040064                 NaN           False           False\n",
       "3        HP:0001252                 NaN           False           False\n",
       "4        HP:0001999          MP:0003743            True            True\n",
       "..              ...                 ...             ...             ...\n",
       "782      HP:0000807                 NaN           False           False\n",
       "783      HP:0011805                 NaN           False           False\n",
       "784      HP:0010741                 NaN           False           False\n",
       "785      HP:0002992          MP:0000558            True            True\n",
       "786      HP:0009736                 NaN           False           False\n",
       "\n",
       "[787 rows x 4 columns]"
      ]
     },
     "execution_count": 78,
     "metadata": {},
     "output_type": "execute_result"
    }
   ],
   "source": [
    "def merge_mappings(df,dfm,mapping=\"mapping\"):\n",
    "    df = df.merge(dfm, how=\"left\")\n",
    "    df[mapping] = ~df['mammalian_phenotype'].isna()\n",
    "    return df\n",
    "\n",
    "df_kids_first_mapped = merge_mappings(df_kids_first.to_frame(), dfm_upheno_logical,\"upheno_logical\")\n",
    "df_kids_first_mapped = merge_mappings(df_kids_first_mapped, dfm_upheno_lexical,\"upheno_lexical\")\n",
    "df_kids_first_mapped.to_csv(\"df_kids_first_mapped.csv\")\n",
    "df_kids_first_mapped"
   ]
  },
  {
   "cell_type": "code",
   "execution_count": 66,
   "metadata": {},
   "outputs": [
    {
     "data": {
      "text/plain": [
       "False    663\n",
       "True     124\n",
       "Name: upheno_logical, dtype: int64"
      ]
     },
     "execution_count": 66,
     "metadata": {},
     "output_type": "execute_result"
    }
   ],
   "source": [
    "df_kids_first_mapped.upheno_logical.value_counts()"
   ]
  },
  {
   "cell_type": "code",
   "execution_count": 65,
   "metadata": {},
   "outputs": [
    {
     "data": {
      "text/plain": [
       "False    663\n",
       "True     124\n",
       "Name: upheno_lexical, dtype: int64"
      ]
     },
     "execution_count": 65,
     "metadata": {},
     "output_type": "execute_result"
    }
   ],
   "source": [
    "df_kids_first_mapped.upheno_lexical.value_counts()"
   ]
  },
  {
   "cell_type": "code",
   "execution_count": 70,
   "metadata": {},
   "outputs": [
    {
     "data": {
      "text/html": [
       "<div>\n",
       "<style scoped>\n",
       "    .dataframe tbody tr th:only-of-type {\n",
       "        vertical-align: middle;\n",
       "    }\n",
       "\n",
       "    .dataframe tbody tr th {\n",
       "        vertical-align: top;\n",
       "    }\n",
       "\n",
       "    .dataframe thead th {\n",
       "        text-align: right;\n",
       "    }\n",
       "</style>\n",
       "<table border=\"1\" class=\"dataframe\">\n",
       "  <thead>\n",
       "    <tr style=\"text-align: right;\">\n",
       "      <th></th>\n",
       "      <th>human_phenotype</th>\n",
       "      <th>mammalian_phenotype</th>\n",
       "      <th>upheno_logical</th>\n",
       "      <th>upheno_lexical</th>\n",
       "      <th>combined</th>\n",
       "    </tr>\n",
       "  </thead>\n",
       "  <tbody>\n",
       "    <tr>\n",
       "      <th>0</th>\n",
       "      <td>HP:0030319</td>\n",
       "      <td>NaN</td>\n",
       "      <td>False</td>\n",
       "      <td>False</td>\n",
       "      <td>False</td>\n",
       "    </tr>\n",
       "    <tr>\n",
       "      <th>1</th>\n",
       "      <td>HP:0040106</td>\n",
       "      <td>NaN</td>\n",
       "      <td>False</td>\n",
       "      <td>False</td>\n",
       "      <td>False</td>\n",
       "    </tr>\n",
       "    <tr>\n",
       "      <th>2</th>\n",
       "      <td>HP:0040064</td>\n",
       "      <td>NaN</td>\n",
       "      <td>False</td>\n",
       "      <td>False</td>\n",
       "      <td>False</td>\n",
       "    </tr>\n",
       "    <tr>\n",
       "      <th>3</th>\n",
       "      <td>HP:0001252</td>\n",
       "      <td>NaN</td>\n",
       "      <td>False</td>\n",
       "      <td>False</td>\n",
       "      <td>False</td>\n",
       "    </tr>\n",
       "    <tr>\n",
       "      <th>4</th>\n",
       "      <td>HP:0001999</td>\n",
       "      <td>MP:0003743</td>\n",
       "      <td>True</td>\n",
       "      <td>True</td>\n",
       "      <td>True</td>\n",
       "    </tr>\n",
       "    <tr>\n",
       "      <th>...</th>\n",
       "      <td>...</td>\n",
       "      <td>...</td>\n",
       "      <td>...</td>\n",
       "      <td>...</td>\n",
       "      <td>...</td>\n",
       "    </tr>\n",
       "    <tr>\n",
       "      <th>782</th>\n",
       "      <td>HP:0000807</td>\n",
       "      <td>NaN</td>\n",
       "      <td>False</td>\n",
       "      <td>False</td>\n",
       "      <td>False</td>\n",
       "    </tr>\n",
       "    <tr>\n",
       "      <th>783</th>\n",
       "      <td>HP:0011805</td>\n",
       "      <td>NaN</td>\n",
       "      <td>False</td>\n",
       "      <td>False</td>\n",
       "      <td>False</td>\n",
       "    </tr>\n",
       "    <tr>\n",
       "      <th>784</th>\n",
       "      <td>HP:0010741</td>\n",
       "      <td>NaN</td>\n",
       "      <td>False</td>\n",
       "      <td>False</td>\n",
       "      <td>False</td>\n",
       "    </tr>\n",
       "    <tr>\n",
       "      <th>785</th>\n",
       "      <td>HP:0002992</td>\n",
       "      <td>MP:0000558</td>\n",
       "      <td>True</td>\n",
       "      <td>True</td>\n",
       "      <td>True</td>\n",
       "    </tr>\n",
       "    <tr>\n",
       "      <th>786</th>\n",
       "      <td>HP:0009736</td>\n",
       "      <td>NaN</td>\n",
       "      <td>False</td>\n",
       "      <td>False</td>\n",
       "      <td>False</td>\n",
       "    </tr>\n",
       "  </tbody>\n",
       "</table>\n",
       "<p>787 rows × 5 columns</p>\n",
       "</div>"
      ],
      "text/plain": [
       "    human_phenotype mammalian_phenotype  upheno_logical  upheno_lexical  \\\n",
       "0        HP:0030319                 NaN           False           False   \n",
       "1        HP:0040106                 NaN           False           False   \n",
       "2        HP:0040064                 NaN           False           False   \n",
       "3        HP:0001252                 NaN           False           False   \n",
       "4        HP:0001999          MP:0003743            True            True   \n",
       "..              ...                 ...             ...             ...   \n",
       "782      HP:0000807                 NaN           False           False   \n",
       "783      HP:0011805                 NaN           False           False   \n",
       "784      HP:0010741                 NaN           False           False   \n",
       "785      HP:0002992          MP:0000558            True            True   \n",
       "786      HP:0009736                 NaN           False           False   \n",
       "\n",
       "     combined  \n",
       "0       False  \n",
       "1       False  \n",
       "2       False  \n",
       "3       False  \n",
       "4        True  \n",
       "..        ...  \n",
       "782     False  \n",
       "783     False  \n",
       "784     False  \n",
       "785      True  \n",
       "786     False  \n",
       "\n",
       "[787 rows x 5 columns]"
      ]
     },
     "execution_count": 70,
     "metadata": {},
     "output_type": "execute_result"
    }
   ],
   "source": [
    "df_kids_first_mapped['combined']=np.where( ( (df_kids_first_mapped.upheno_logical) | (df_kids_first_mapped.upheno_lexical)), True, False) \n",
    "df_kids_first_mapped"
   ]
  },
  {
   "cell_type": "code",
   "execution_count": 72,
   "metadata": {},
   "outputs": [
    {
     "data": {
      "text/plain": [
       "False    663\n",
       "True     124\n",
       "Name: combined, dtype: int64"
      ]
     },
     "execution_count": 72,
     "metadata": {},
     "output_type": "execute_result"
    }
   ],
   "source": [
    "df_kids_first_mapped.combined.value_counts()"
   ]
  },
  {
   "cell_type": "code",
   "execution_count": null,
   "metadata": {},
   "outputs": [],
   "source": []
  }
 ],
 "metadata": {
  "kernelspec": {
   "display_name": "Python 3",
   "language": "python",
   "name": "python3"
  },
  "language_info": {
   "codemirror_mode": {
    "name": "ipython",
    "version": 3
   },
   "file_extension": ".py",
   "mimetype": "text/x-python",
   "name": "python",
   "nbconvert_exporter": "python",
   "pygments_lexer": "ipython3",
   "version": "3.8.3"
  }
 },
 "nbformat": 4,
 "nbformat_minor": 4
}
